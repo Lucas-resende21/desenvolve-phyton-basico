{
 "cells": [
  {
   "cell_type": "markdown",
   "id": "29e89030",
   "metadata": {},
   "source": [
    "# Módulo 4 - Repetições\n",
    "\n",
    "## Aulas 4.2 - Comando ```for``` e 4.3 Break e Continue"
   ]
  },
  {
   "cell_type": "markdown",
   "id": "a45b42df",
   "metadata": {},
   "source": [
    "### Q1.\n",
    "\n",
    "Crie um programa em Python que utilize o comando for para imprimir os números de 10 a 1, em ordem decrescente."
   ]
  },
  {
   "cell_type": "code",
   "execution_count": 1,
   "id": "55a75b3d",
   "metadata": {},
   "outputs": [
    {
     "name": "stdout",
     "output_type": "stream",
     "text": [
      "10\n",
      "9\n",
      "8\n",
      "7\n",
      "6\n",
      "5\n",
      "4\n",
      "3\n",
      "2\n",
      "1\n"
     ]
    }
   ],
   "source": [
    "## Escreva e execute seu código aqui\n",
    "# Programa para imprimir números de 10 a 1\n",
    "for numero in range(10, 0, -1):\n",
    "    print(numero)\n"
   ]
  },
  {
   "cell_type": "markdown",
   "id": "94b47c36",
   "metadata": {},
   "source": [
    "### Q2.\n",
    "\n",
    "Dado um número inteiro positivo informado pelo usuário, crie um programa em Python que utilize o comando for para calcular e exibir a soma dos números de 1 até o número informado. Ou seja, $1 + 2 + 3 + ... + n$\n",
    "\n",
    "Exemplo de interação:\n",
    "```\n",
    "Digite um número: 5\n",
    "A soma dos números de 1 a 5 é 15\n",
    "```\n"
   ]
  },
  {
   "cell_type": "code",
   "execution_count": 2,
   "id": "45b71596",
   "metadata": {},
   "outputs": [
    {
     "name": "stdin",
     "output_type": "stream",
     "text": [
      "Digite um número inteiro positivo:  5\n"
     ]
    },
    {
     "name": "stdout",
     "output_type": "stream",
     "text": [
      "A soma dos números de 1 até 5 é: 15\n"
     ]
    }
   ],
   "source": [
    "## Escreva e execute seu código aqui\n",
    "numero = int(input(\"Digite um número inteiro positivo: \"))\n",
    "soma = 0\n",
    "for i in range(1, numero + 1):\n",
    "    soma += i\n",
    "print(f\"A soma dos números de 1 até {numero} é: {soma}\")\n"
   ]
  },
  {
   "cell_type": "markdown",
   "id": "0411d170",
   "metadata": {},
   "source": [
    "### Q3.\n",
    "\n",
    "Escreva um programa que lê 10 valores inteiros positivos do usuário e ao final imprime a média dos valores digitados com duas casas decimais.\n",
    "\n",
    "```\n",
    "Digite 10 números positivos:\n",
    "3\n",
    "2\n",
    "12\n",
    "14\n",
    "20\n",
    "42\n",
    "19\n",
    "0\n",
    "8\n",
    "1\n",
    "A média dos valores digitados é 12.10\n",
    "```"
   ]
  },
  {
   "cell_type": "code",
   "execution_count": 5,
   "id": "4e546b60-d69b-4878-81ae-3d85a21f90f0",
   "metadata": {},
   "outputs": [
    {
     "name": "stdin",
     "output_type": "stream",
     "text": [
      "Digite o valor 1 (número inteiro positivo):  5\n",
      "Digite o valor 2 (número inteiro positivo):  5\n",
      "Digite o valor 3 (número inteiro positivo):  5\n",
      "Digite o valor 4 (número inteiro positivo):  4\n",
      "Digite o valor 5 (número inteiro positivo):  4\n",
      "Digite o valor 6 (número inteiro positivo):  4\n",
      "Digite o valor 7 (número inteiro positivo):  5\n",
      "Digite o valor 8 (número inteiro positivo):  5\n",
      "Digite o valor 9 (número inteiro positivo):  4\n",
      "Digite o valor 10 (número inteiro positivo):  4\n"
     ]
    },
    {
     "name": "stdout",
     "output_type": "stream",
     "text": [
      "A média dos valores digitados é: 4.50\n"
     ]
    }
   ],
   "source": [
    "soma = 0\n",
    "for i in range(10):\n",
    "    while True:\n",
    "        valor = int(input(f\"Digite o valor {i + 1} (número inteiro positivo): \"))\n",
    "        if valor > 0:  \n",
    "            soma += valor\n",
    "            break\n",
    "        else:\n",
    "            print(\"Por favor, insira um número inteiro positivo.\")\n",
    "media = soma / 10\n",
    "print(f\"A média dos valores digitados é: {media:.2f}\")\n"
   ]
  },
  {
   "cell_type": "markdown",
   "id": "d62e27ff",
   "metadata": {},
   "source": [
    "### Q4.\n",
    "\n",
    "Você vai criar um sistema que registra os resultados dos jogos do Atlético MG ao longo de um campeonato. Seu sistema vai receber os resultados de todos os jogos do Galo, e deve calcular a pontuação do time sabendo que vitórias valem 3 pontos, empates 1 ponto e derrotas 0 pontos.\n",
    "\n",
    "Entrada: <br>\n",
    "A primeira linha de entrada é um inteiro N com a quantidade jogos do galo. Para cada jogo você deve ler 2 inteiros, o primeiro com a quantidade de gols do galo e o segundo com a quantidade de gols do time oponente. \n",
    "\n",
    "Saída: <br>\n",
    "Apresente a soma de vitórias, empates e derrotas do galo, junto com o cálculo da pontuação total.\n",
    "\n",
    "Ex:\n",
    "```\n",
    "Entrada:\n",
    "4\n",
    "2\n",
    "0\n",
    "1\n",
    "1\n",
    "0\n",
    "3\n",
    "1\n",
    "0\n",
    "\n",
    "Saída:\n",
    "Vitórias: 2\n",
    "Empates: 1\n",
    "Derrotas: 1\n",
    "Pontuação: 7\n",
    "\n",
    "```\n",
    "\n",
    "\n"
   ]
  },
  {
   "cell_type": "code",
   "execution_count": null,
   "id": "d3fdfc2a",
   "metadata": {},
   "outputs": [],
   "source": [
    "## Escreva e execute seu código aqui\n",
    "N = int(input(\"Digite a quantidade de jogos do Galo: \"))\n",
    "vitorias = 0\n",
    "empates = 0\n",
    "derrotas = 0\n",
    "pontuacao = 0\n",
    "for i in range(N):\n",
    "    #\n",
    "    gols_galo = int(input(f\"Digite os gols do Galo no jogo {i + 1}: \"))\n",
    "    gols_adversario = int(input(f\"Digite os gols do adversário no jogo {i + 1}: \"))\n",
    "    \n",
    "    # Verifica o resultado do jogo\n",
    "    if gols_galo > gols_adversario:\n",
    "        vitorias += 1\n",
    "        pontuacao += 3\n",
    "    elif gols_galo == gols_adversario:\n",
    "        empates += 1\n",
    "        pontuacao += 1\n",
    "    else:\n",
    "        derrotas += 1\n",
    "\n",
    "# Exibe o resumo dos resultados\n",
    "print(f\"Vitórias: {vitorias}\")\n",
    "print(f\"Empates: {empates}\")\n",
    "print(f\"Derrotas: {derrotas}\")\n",
    "print(f\"Pontuação: {pontuacao}\")\n"
   ]
  },
  {
   "cell_type": "markdown",
   "id": "fc98604d",
   "metadata": {},
   "source": [
    "### Q5.\n",
    "\n",
    "Faça um programa que lê dois inteiros N e M, e imprime na tela um campo de batalha naval. O tabuleiro deve possuir N linhas e M colunas. A primeira linha é composta por um espaço em branco e o cabeçalho das colunas, ou seja, valores de 1 a M. As N linhas seguintes iniciam com o cabeçalho da linha, ou seja, seu número, seguido de M caracteres \"/\" (barra) indicando uma possível posição jogável. \n",
    "\n",
    "```\n",
    "Entrada:\n",
    "5\n",
    "4\n",
    "\n",
    "Saída:\n",
    "  1 2 3 4 \n",
    "1 / / / / \n",
    "2 / / / / \n",
    "3 / / / / \n",
    "4 / / / / \n",
    "5 / / / / \n",
    "```\n",
    "\n",
    "Para esse exercício, precisamos lembrar que o comando print implicitamente adiciona uma quebra de linha ao final da impressão. Podemos interferir no final da impressão adicionando mais uma entrada ao print. No exemplo, finalizamos cada linha com um espaço em branco:\n",
    "```python\n",
    "print(\"Texto qualquer\", end = \" \")\n",
    "```"
   ]
  },
  {
   "cell_type": "code",
   "execution_count": null,
   "id": "a60ef197",
   "metadata": {},
   "outputs": [],
   "source": [
    "## Escreva e execute seu código aqui\n",
    "N = int(input(\"Digite o número de linhas: \"))\n",
    "M = int(input(\"Digite o número de colunas: \"))\n",
    "print(\" \", end=\" \")\n",
    "for coluna in range(1, M + 1):\n",
    "    print(coluna, end=\" \")\n",
    "print()\n",
    "for linha in range(1, N + 1):\n",
    "    print(linha, end=\" \") \n",
    "    for _ in range(M):\n",
    "        print(\"/\", end=\" \")\n",
    "    print()  \n"
   ]
  },
  {
   "cell_type": "markdown",
   "id": "4654dc0b",
   "metadata": {},
   "source": [
    "---\n",
    "## Break e Continue"
   ]
  },
  {
   "cell_type": "markdown",
   "id": "24fe9d85",
   "metadata": {},
   "source": [
    "### Q6.\n",
    "\n",
    "Escreva um programa que lê uma quantidade indefinida de valores e informa o maior e o menor valor digitados. A leitura é encerrada quando o usuário digitar o valor 0 (zero).\n",
    "\n",
    "```\n",
    "Entrada:\n",
    "12\n",
    "-1\n",
    "29\n",
    "11\n",
    "-5\n",
    "0\n",
    "\n",
    "Saída:\n",
    "Maior: 29\n",
    "Menor: -5\n",
    "```"
   ]
  },
  {
   "cell_type": "code",
   "execution_count": null,
   "id": "ee1c466a",
   "metadata": {},
   "outputs": [],
   "source": [
    "## Escreva e execute seu código aqui\n",
    "maior = None\n",
    "menor = None\n",
    "while True:\n",
    "    valor = int(input(\"Digite um valor (0 para encerrar): \"))\n",
    "    if valor == 0:\n",
    "        break\n",
    "    if maior is None or valor > maior:\n",
    "        maior = valor\n",
    "    if menor is None or valor < menor:\n",
    "        menor = valor\n",
    "if maior is not None and menor is not None:\n",
    "    print(\"Maior:\", maior)\n",
    "    print(\"Menor:\", menor)\n",
    "else:\n",
    "    print(\"Nenhum valor válido foi digitado.\")\n"
   ]
  },
  {
   "cell_type": "markdown",
   "id": "30d486f7",
   "metadata": {},
   "source": [
    "### Q7.\n",
    "\n",
    "Escreva um programa que lê uma quantidade indefinida de valores e informa o **produto** dos valores positivos digitados. A leitura é encerrada quando o usuário digitar o valor 0 (zero).\n",
    "\n",
    "```\n",
    "Entrada:\n",
    "2\n",
    "-1\n",
    "1\n",
    "3\n",
    "-5\n",
    "0\n",
    "\n",
    "Saída:\n",
    "Produto: 6\n",
    "```"
   ]
  },
  {
   "cell_type": "code",
   "execution_count": null,
   "id": "2f1ac324",
   "metadata": {},
   "outputs": [],
   "source": [
    "## Escreva e execute seu código aqui\n",
    "produto = 1\n",
    "tem_positivo = False\n",
    "while True:\n",
    "    valor = int(input(\"Digite um valor (0 para encerrar): \"))\n",
    "    if valor == 0:\n",
    "        break\n",
    "    if valor > 0:\n",
    "        produto *= valor\n",
    "        tem_positivo = True  \n",
    "if tem_positivo:\n",
    "    print(\"Produto:\", produto)\n",
    "else:\n",
    "    print(\"Nenhum valor positivo foi digitado.\")\n"
   ]
  },
  {
   "cell_type": "markdown",
   "id": "e932f3cf",
   "metadata": {},
   "source": [
    "### Q8.\n",
    "\n",
    "Vamos fazer uma calculadora que aceita expressões aritméticas de qualquer tamanho até que o usuário digite a palavra \"Fim\". Sua calculadora executa apenas as operações \"+\", \"-\".\n",
    "\n",
    "```\n",
    "Entrada:\n",
    "5\n",
    "+\n",
    "8\n",
    "-\n",
    "3\n",
    "+\n",
    "2\n",
    "Fim\n",
    "\n",
    "Saída:\n",
    "12\n",
    "```"
   ]
  },
  {
   "cell_type": "code",
   "execution_count": null,
   "id": "e835d870",
   "metadata": {},
   "outputs": [],
   "source": [
    "## Escreva e execute seu código aqui\n",
    "resultado = 0\n",
    "operador = \"+\"\n",
    "while True:\n",
    "    entrada = input(\"Digite um número, um operador (+ ou -), ou 'Fim' para terminar: \")\n",
    "    if entrada == \"Fim\":\n",
    "        break\n",
    "    elif entrada == \"+\" or entrada == \"-\":\n",
    "        operador = entrada\n",
    "    else:\n",
    "        numero = int(entrada)\n",
    "        if operador == \"+\":\n",
    "            resultado += numero\n",
    "        elif operador == \"-\":\n",
    "            resultado -= numero\n",
    "print(\"Resultado:\", resultado)\n"
   ]
  }
 ],
 "metadata": {
  "kernelspec": {
   "display_name": "Python 3 (ipykernel)",
   "language": "python",
   "name": "python3"
  },
  "language_info": {
   "codemirror_mode": {
    "name": "ipython",
    "version": 3
   },
   "file_extension": ".py",
   "mimetype": "text/x-python",
   "name": "python",
   "nbconvert_exporter": "python",
   "pygments_lexer": "ipython3",
   "version": "3.12.5"
  }
 },
 "nbformat": 4,
 "nbformat_minor": 5
}
